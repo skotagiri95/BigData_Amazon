{
  "nbformat": 4,
  "nbformat_minor": 0,
  "metadata": {
    "colab": {
      "name": "Amazon_BigData2.ipynb",
      "provenance": [],
      "collapsed_sections": [],
      "authorship_tag": "ABX9TyNhsimzAs58dPxGd/r4v0sn",
      "include_colab_link": true
    },
    "kernelspec": {
      "name": "python3",
      "display_name": "Python 3"
    }
  },
  "cells": [
    {
      "cell_type": "markdown",
      "metadata": {
        "id": "view-in-github",
        "colab_type": "text"
      },
      "source": [
        "<a href=\"https://colab.research.google.com/github/skotagiri95/BigData_Amazon/blob/master/Amazon_BigData2.ipynb\" target=\"_parent\"><img src=\"https://colab.research.google.com/assets/colab-badge.svg\" alt=\"Open In Colab\"/></a>"
      ]
    },
    {
      "cell_type": "code",
      "metadata": {
        "id": "-XQKvoREOvzH",
        "colab_type": "code",
        "colab": {}
      },
      "source": [
        "# Install Java, Spark, and Findspark\n",
        "!apt-get install openjdk-8-jdk-headless -qq > /dev/null\n",
        "!wget -q http://www-us.apache.org/dist/spark/spark-2.4.5/spark-2.4.5-bin-hadoop2.7.tgz\n",
        "!tar xf spark-2.4.5-bin-hadoop2.7.tgz\n",
        "!pip install -q findspark\n",
        "\n",
        "# Set Environment Variables\n",
        "import os\n",
        "os.environ[\"JAVA_HOME\"] = \"/usr/lib/jvm/java-8-openjdk-amd64\"\n",
        "os.environ[\"SPARK_HOME\"] = \"/content/spark-2.4.5-bin-hadoop2.7\""
      ],
      "execution_count": 0,
      "outputs": []
    },
    {
      "cell_type": "code",
      "metadata": {
        "id": "B3kTIXMVxgko",
        "colab_type": "code",
        "colab": {
          "base_uri": "https://localhost:8080/",
          "height": 204
        },
        "outputId": "d5fea9a4-f022-4d0f-bb95-e68f89e357a0"
      },
      "source": [
        "# Connect to postgresql\n",
        "!wget https://jdbc.postgresql.org/download/postgresql-42.2.9.jar"
      ],
      "execution_count": 20,
      "outputs": [
        {
          "output_type": "stream",
          "text": [
            "--2020-05-08 05:47:05--  https://jdbc.postgresql.org/download/postgresql-42.2.9.jar\n",
            "Resolving jdbc.postgresql.org (jdbc.postgresql.org)... 72.32.157.228, 2001:4800:3e1:1::228\n",
            "Connecting to jdbc.postgresql.org (jdbc.postgresql.org)|72.32.157.228|:443... connected.\n",
            "HTTP request sent, awaiting response... 200 OK\n",
            "Length: 914037 (893K) [application/java-archive]\n",
            "Saving to: ‘postgresql-42.2.9.jar.2’\n",
            "\n",
            "postgresql-42.2.9.j 100%[===================>] 892.61K  1.05MB/s    in 0.8s    \n",
            "\n",
            "2020-05-08 05:47:06 (1.05 MB/s) - ‘postgresql-42.2.9.jar.2’ saved [914037/914037]\n",
            "\n"
          ],
          "name": "stdout"
        }
      ]
    },
    {
      "cell_type": "code",
      "metadata": {
        "id": "cvA6lsXHxiTm",
        "colab_type": "code",
        "colab": {}
      },
      "source": [
        "# Start a SparkSession\n",
        "import findspark\n",
        "findspark.init()\n",
        "import pyspark\n",
        "\n",
        "# Start Spark session\n",
        "from pyspark.sql import SparkSession\n",
        "spark = SparkSession.builder.appName(\"AWS_Mobile_Reviews\").config(\"spark.driver.extraClassPath\",\"/content/postgresql-42.2.9.jar\").getOrCreate()"
      ],
      "execution_count": 0,
      "outputs": []
    },
    {
      "cell_type": "code",
      "metadata": {
        "id": "HESoXHmJxkKB",
        "colab_type": "code",
        "colab": {
          "base_uri": "https://localhost:8080/",
          "height": 46
        },
        "outputId": "a6dd1bf6-17f6-4051-9147-5e46734bb213"
      },
      "source": [
        "!wget -q https://s3.amazonaws.com/amazon-reviews-pds/tsv/amazon_reviews_us_Mobile_Electronics_v1_00.tsv.gz\n",
        "!gunzip amazon_reviews_us_Mobile_Electronics_v1_00.tsv.gz"
      ],
      "execution_count": 0,
      "outputs": [
        {
          "output_type": "stream",
          "text": [
            "gzip: amazon_reviews_us_Mobile_Electronics_v1_00.tsv already exists; do you wish to overwrite (y or n)? "
          ],
          "name": "stdout"
        }
      ]
    },
    {
      "cell_type": "code",
      "metadata": {
        "id": "idg48-yjxnvn",
        "colab_type": "code",
        "colab": {}
      },
      "source": [
        "# Load in a sql function to use columns\n",
        "from pyspark.sql.functions import col\n",
        "import pyspark.sql.functions as F \n",
        "\n",
        "from pyspark import SparkFiles\n",
        "url = \"https://s3.amazonaws.com/amazon-reviews-pds/tsv/amazon_reviews_us_Mobile_Electronics_v1_00.tsv.gz\"\n",
        "spark.sparkContext.addFile(url)\n",
        "mobile_electronics_df = spark.read.csv(SparkFiles.get(\"amazon_reviews_us_Mobile_Electronics_v1_00.tsv.gz\"), sep=\"\\t\", header=True)\n",
        "\n",
        "# Show DataFrame\n",
        "mobile_electronics_df.show()\n"
      ],
      "execution_count": 0,
      "outputs": []
    },
    {
      "cell_type": "code",
      "metadata": {
        "id": "hxdASOOf0K2c",
        "colab_type": "code",
        "colab": {}
      },
      "source": [
        "# original dataset information\n",
        "print((df.count(), len(df.columns)))\n",
        "# check data types\n",
        "df.printSchema"
      ],
      "execution_count": 0,
      "outputs": []
    },
    {
      "cell_type": "code",
      "metadata": {
        "id": "Cv_lb-VIxoZM",
        "colab_type": "code",
        "colab": {}
      },
      "source": [
        "# Import struct fields that we can use\n",
        "from pyspark.sql.types import StructField, StringType, IntegerType, StructType, DateType"
      ],
      "execution_count": 0,
      "outputs": []
    },
    {
      "cell_type": "code",
      "metadata": {
        "id": "51CiN_hEyiKn",
        "colab_type": "code",
        "colab": {}
      },
      "source": [
        "schema = [StructField('marketplace', StringType(), True), StructField('customer_id', IntegerType(), True),\n",
        "          StructField('review_id', StringType(), True), StructField('product_id', StringType(), True),\n",
        "          StructField('product_category', StringType(), True), StructField('star_rating', IntegerType(), True),\n",
        "          StructField('helpful_votes', IntegerType(), True), StructField('total_votes', IntegerType(), True),\n",
        "          StructField('vine', StringType(), True), StructField('verified_purchase', StringType(), True),\n",
        "          StructField('review_headline', StringType(), True), StructField('review_body', StringType(), True),\n",
        "          StructField('review_date', DateType(), True), ]\n",
        "schema"
      ],
      "execution_count": 0,
      "outputs": []
    },
    {
      "cell_type": "code",
      "metadata": {
        "id": "yV5coJR1xrAJ",
        "colab_type": "code",
        "colab": {}
      },
      "source": [
        "final=StructType(fields=schema)\n",
        "me_df = spark.read.csv(SparkFiles.get(\"amazon_reviews_us_Mobile_Electronics_v1_00.tsv.gz\"), schema=final, sep=\"\\t\", header=True)\n",
        "me_df.printSchema()"
      ],
      "execution_count": 0,
      "outputs": []
    },
    {
      "cell_type": "code",
      "metadata": {
        "id": "Vi_0WZ4PxvIz",
        "colab_type": "code",
        "colab": {}
      },
      "source": [
        "clean_mobile = me_df.dropna()"
      ],
      "execution_count": 0,
      "outputs": []
    },
    {
      "cell_type": "code",
      "metadata": {
        "id": "kDBwzW9ExxM7",
        "colab_type": "code",
        "colab": {}
      },
      "source": [
        "review_id_table = clean_mobile.select(['review_id','customer_id','product_id','review_date'])\n",
        "review_id_table.show()"
      ],
      "execution_count": 0,
      "outputs": []
    },
    {
      "cell_type": "code",
      "metadata": {
        "id": "YOJfjRktxzO4",
        "colab_type": "code",
        "colab": {}
      },
      "source": [
        "products = clean_mobile.select(['product_id','product_title'])\n",
        "products =products.dropDuplicates(['product_id'])\n",
        "products.show()"
      ],
      "execution_count": 0,
      "outputs": []
    },
    {
      "cell_type": "code",
      "metadata": {
        "id": "YYqbb2Fyx6hm",
        "colab_type": "code",
        "colab": {}
      },
      "source": [
        "vine_table = clean_mobile.select(['review_id','star_rating','helpful_votes','total_votes','vine'])\n",
        "vine_table.show()"
      ],
      "execution_count": 0,
      "outputs": []
    },
    {
      "cell_type": "code",
      "metadata": {
        "id": "BaCmsQ9Sx7OS",
        "colab_type": "code",
        "colab": {}
      },
      "source": [
        "paid_vine_df = vine_table.filter(col('vine')=='Y')\n",
        "paid_vine_df.orderBy(paid_vine_df['helpful_votes'].desc()).select('star_rating','helpful_votes','total_votes').show()\n"
      ],
      "execution_count": 0,
      "outputs": []
    },
    {
      "cell_type": "code",
      "metadata": {
        "id": "cEfpylDZx_bq",
        "colab_type": "code",
        "colab": {}
      },
      "source": [
        "paid_vine_df.filter('star_rating = 5').select('helpful_votes').count()"
      ],
      "execution_count": 0,
      "outputs": []
    },
    {
      "cell_type": "code",
      "metadata": {
        "id": "hi5UlnSA2AUo",
        "colab_type": "code",
        "colab": {}
      },
      "source": [
        "# Configure setting for RDS\n",
        "mode = 'append'\n",
        "jdbc_url=\"jdbc:postgresql://dataviz.cbp360boojkd.us-east-2.rds.amazonaws.com:5431/AWS_PC_Reviews\"\n",
        "config = {\"user\":\"skotagiri95\",\n",
        "          \"password\": \"password\",\n",
        "          \"driver\":\"org.postgresql.Driver\"}"
      ],
      "execution_count": 0,
      "outputs": []
    },
    {
      "cell_type": "code",
      "metadata": {
        "id": "PTUhAK7l2DWg",
        "colab_type": "code",
        "colab": {}
      },
      "source": [
        "#Write DataFrame to review_id_table table in RDS\n",
        "review_id_table.write.jdbc(url=jdbc_url, table='review_id_table', mode=mode, properties=config)\n",
        "\n",
        "# Write DataFrame to products table in RDS\n",
        "products.write.jdbc(url=jdbc_url, table='products', mode=mode, properties=config)\n",
        "\n",
        "# Write DataFrame to customers table in RDS\n",
        "customers.write.jdbc(url=jdbc_url, table='customers', mode=mode, properties=config)\n",
        "\n",
        "# Write DataFrame to vine_table table in RDS\n",
        "vine_table.write.jdbc(url=jdbc_url, table='vine_table', mode=mode, properties=config)"
      ],
      "execution_count": 0,
      "outputs": []
    }
  ]
}